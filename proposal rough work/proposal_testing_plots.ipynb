{
 "cells": [
  {
   "cell_type": "code",
   "execution_count": 1,
   "id": "585a9459-96a6-4156-9a85-e31f553b7ada",
   "metadata": {
    "tags": []
   },
   "outputs": [
    {
     "name": "stderr",
     "output_type": "stream",
     "text": [
      "also installing the dependencies ‘broom.helpers’, ‘ggplot2’, ‘ggstats’\n",
      "\n",
      "\n",
      "Warning message in install.packages(\"GGally\"):\n",
      "“installation of package ‘broom.helpers’ had non-zero exit status”\n",
      "Warning message in install.packages(\"GGally\"):\n",
      "“installation of package ‘ggstats’ had non-zero exit status”\n",
      "Warning message in install.packages(\"GGally\"):\n",
      "“installation of package ‘GGally’ had non-zero exit status”\n",
      "Updating HTML index of packages in '.Library'\n",
      "\n",
      "Making 'packages.html' ...\n",
      " done\n",
      "\n"
     ]
    }
   ],
   "source": [
    "install.packages(\"GGally\")"
   ]
  },
  {
   "cell_type": "code",
   "execution_count": 2,
   "id": "48b7f3bf-1195-4f3d-8e0e-9dc4a8ba5081",
   "metadata": {
    "tags": []
   },
   "outputs": [
    {
     "name": "stderr",
     "output_type": "stream",
     "text": [
      "── \u001b[1mAttaching packages\u001b[22m ─────────────────────────────────────── tidyverse 1.3.2 ──\n",
      "\u001b[32m✔\u001b[39m \u001b[34mggplot2\u001b[39m 3.4.4     \u001b[32m✔\u001b[39m \u001b[34mpurrr  \u001b[39m 1.0.1\n",
      "\u001b[32m✔\u001b[39m \u001b[34mtibble \u001b[39m 3.2.1     \u001b[32m✔\u001b[39m \u001b[34mdplyr  \u001b[39m 1.1.1\n",
      "\u001b[32m✔\u001b[39m \u001b[34mtidyr  \u001b[39m 1.3.0     \u001b[32m✔\u001b[39m \u001b[34mstringr\u001b[39m 1.5.0\n",
      "\u001b[32m✔\u001b[39m \u001b[34mreadr  \u001b[39m 2.1.3     \u001b[32m✔\u001b[39m \u001b[34mforcats\u001b[39m 0.5.2\n",
      "── \u001b[1mConflicts\u001b[22m ────────────────────────────────────────── tidyverse_conflicts() ──\n",
      "\u001b[31m✖\u001b[39m \u001b[34mdplyr\u001b[39m::\u001b[32mfilter()\u001b[39m masks \u001b[34mstats\u001b[39m::filter()\n",
      "\u001b[31m✖\u001b[39m \u001b[34mdplyr\u001b[39m::\u001b[32mlag()\u001b[39m    masks \u001b[34mstats\u001b[39m::lag()\n",
      "── \u001b[1mAttaching packages\u001b[22m ────────────────────────────────────── tidymodels 1.0.0 ──\n",
      "\n",
      "\u001b[32m✔\u001b[39m \u001b[34mbroom       \u001b[39m 1.0.2     \u001b[32m✔\u001b[39m \u001b[34mrsample     \u001b[39m 1.1.1\n",
      "\u001b[32m✔\u001b[39m \u001b[34mdials       \u001b[39m 1.1.0     \u001b[32m✔\u001b[39m \u001b[34mtune        \u001b[39m 1.0.1\n",
      "\u001b[32m✔\u001b[39m \u001b[34minfer       \u001b[39m 1.0.4     \u001b[32m✔\u001b[39m \u001b[34mworkflows   \u001b[39m 1.1.2\n",
      "\u001b[32m✔\u001b[39m \u001b[34mmodeldata   \u001b[39m 1.0.1     \u001b[32m✔\u001b[39m \u001b[34mworkflowsets\u001b[39m 1.0.0\n",
      "\u001b[32m✔\u001b[39m \u001b[34mparsnip     \u001b[39m 1.0.3     \u001b[32m✔\u001b[39m \u001b[34myardstick   \u001b[39m 1.1.0\n",
      "\u001b[32m✔\u001b[39m \u001b[34mrecipes     \u001b[39m 1.0.4     \n",
      "\n",
      "── \u001b[1mConflicts\u001b[22m ───────────────────────────────────────── tidymodels_conflicts() ──\n",
      "\u001b[31m✖\u001b[39m \u001b[34mscales\u001b[39m::\u001b[32mdiscard()\u001b[39m masks \u001b[34mpurrr\u001b[39m::discard()\n",
      "\u001b[31m✖\u001b[39m \u001b[34mdplyr\u001b[39m::\u001b[32mfilter()\u001b[39m   masks \u001b[34mstats\u001b[39m::filter()\n",
      "\u001b[31m✖\u001b[39m \u001b[34mrecipes\u001b[39m::\u001b[32mfixed()\u001b[39m  masks \u001b[34mstringr\u001b[39m::fixed()\n",
      "\u001b[31m✖\u001b[39m \u001b[34mdplyr\u001b[39m::\u001b[32mlag()\u001b[39m      masks \u001b[34mstats\u001b[39m::lag()\n",
      "\u001b[31m✖\u001b[39m \u001b[34myardstick\u001b[39m::\u001b[32mspec()\u001b[39m masks \u001b[34mreadr\u001b[39m::spec()\n",
      "\u001b[31m✖\u001b[39m \u001b[34mrecipes\u001b[39m::\u001b[32mstep()\u001b[39m   masks \u001b[34mstats\u001b[39m::step()\n",
      "\u001b[34m•\u001b[39m Use \u001b[32mtidymodels_prefer()\u001b[39m to resolve common conflicts.\n",
      "\n"
     ]
    },
    {
     "ename": "ERROR",
     "evalue": "Error in library(GGally): there is no package called ‘GGally’\n",
     "output_type": "error",
     "traceback": [
      "Error in library(GGally): there is no package called ‘GGally’\nTraceback:\n",
      "1. library(GGally)"
     ]
    }
   ],
   "source": [
    "library(tidyverse)\n",
    "library(tidymodels)\n",
    "library(patchwork)\n",
    "library(GGally)"
   ]
  },
  {
   "cell_type": "markdown",
   "id": "bb25a391-1556-4d9d-a957-da9d8d361b7f",
   "metadata": {},
   "source": [
    "# Chest Pain Classification Using K-Nearest Neighbors\n",
    "Section 003, Group 21"
   ]
  },
  {
   "cell_type": "markdown",
   "id": "bc8a1338-4285-4723-b8dd-6e2273d79a06",
   "metadata": {
    "tags": []
   },
   "source": [
    "## **Introduction**\n",
    "Heart disease refers to a range of conditions that affect the heart. Various factors, such as age, lifestyle, and genetics, can influence the chances of an individual getting heart disease. We want to understand what factors are related to certain chest pain types. <br>\n",
    "\n",
    "**Research Question:**\n",
    "Can we determine what type of chest pain a patient is likely experiencing based on their age, cholesterol, resting and max heart rates, ST-depression, exercise angina, and diagnosis?\n",
    "\n",
    "The dataset that we will be using is titled “Heart Disease”.  It contains observations with a total of 76 attributes, collected from various patients. These observations have been processed and published as 4 experiment databases, each including the same subset of 14 attributes. For ease of reading, we chose to use the processed experiment files for our data."
   ]
  },
  {
   "cell_type": "markdown",
   "id": "2b5d513a-0d4b-455f-900f-a53e99a4e09c",
   "metadata": {
    "tags": []
   },
   "source": [
    "## **Preliminary Analysis**\n",
    "To read the data, we first downloaded the data set.  We then looked through the files and realized that only the processed data was likely to be readable with our current knowledge, and thus chose to use the 4 processed files. <br>\n",
    "After reading the files and looking through the heart-disease.names file for the descriptions of each attribute, we gave the table columns appropriate names to ensure the data would be understandable. <br>\n",
    "Below is the original data with added column names:\n"
   ]
  },
  {
   "cell_type": "code",
   "execution_count": 3,
   "id": "ad911fce-4b6e-443b-b294-3c42dbfd8ddb",
   "metadata": {
    "tags": []
   },
   "outputs": [
    {
     "name": "stderr",
     "output_type": "stream",
     "text": [
      "\u001b[1mRows: \u001b[22m\u001b[34m294\u001b[39m \u001b[1mColumns: \u001b[22m\u001b[34m14\u001b[39m\n",
      "\u001b[36m──\u001b[39m \u001b[1mColumn specification\u001b[22m \u001b[36m────────────────────────────────────────────────────────\u001b[39m\n",
      "\u001b[1mDelimiter:\u001b[22m \",\"\n",
      "\u001b[31mchr\u001b[39m (9): X4, X5, X6, X7, X8, X9, X11, X12, X13\n",
      "\u001b[32mdbl\u001b[39m (5): X1, X2, X3, X10, X14\n",
      "\n",
      "\u001b[36mℹ\u001b[39m Use `spec()` to retrieve the full column specification for this data.\n",
      "\u001b[36mℹ\u001b[39m Specify the column types or set `show_col_types = FALSE` to quiet this message.\n",
      "\u001b[1mRows: \u001b[22m\u001b[34m303\u001b[39m \u001b[1mColumns: \u001b[22m\u001b[34m14\u001b[39m\n",
      "\u001b[36m──\u001b[39m \u001b[1mColumn specification\u001b[22m \u001b[36m────────────────────────────────────────────────────────\u001b[39m\n",
      "\u001b[1mDelimiter:\u001b[22m \",\"\n",
      "\u001b[31mchr\u001b[39m  (2): X12, X13\n",
      "\u001b[32mdbl\u001b[39m (12): X1, X2, X3, X4, X5, X6, X7, X8, X9, X10, X11, X14\n",
      "\n",
      "\u001b[36mℹ\u001b[39m Use `spec()` to retrieve the full column specification for this data.\n",
      "\u001b[36mℹ\u001b[39m Specify the column types or set `show_col_types = FALSE` to quiet this message.\n",
      "\u001b[1mRows: \u001b[22m\u001b[34m123\u001b[39m \u001b[1mColumns: \u001b[22m\u001b[34m14\u001b[39m\n",
      "\u001b[36m──\u001b[39m \u001b[1mColumn specification\u001b[22m \u001b[36m────────────────────────────────────────────────────────\u001b[39m\n",
      "\u001b[1mDelimiter:\u001b[22m \",\"\n",
      "\u001b[31mchr\u001b[39m (9): X4, X6, X7, X8, X9, X10, X11, X12, X13\n",
      "\u001b[32mdbl\u001b[39m (5): X1, X2, X3, X5, X14\n",
      "\n",
      "\u001b[36mℹ\u001b[39m Use `spec()` to retrieve the full column specification for this data.\n",
      "\u001b[36mℹ\u001b[39m Specify the column types or set `show_col_types = FALSE` to quiet this message.\n",
      "\u001b[1mRows: \u001b[22m\u001b[34m200\u001b[39m \u001b[1mColumns: \u001b[22m\u001b[34m14\u001b[39m\n",
      "\u001b[36m──\u001b[39m \u001b[1mColumn specification\u001b[22m \u001b[36m────────────────────────────────────────────────────────\u001b[39m\n",
      "\u001b[1mDelimiter:\u001b[22m \",\"\n",
      "\u001b[31mchr\u001b[39m (9): X4, X5, X6, X8, X9, X10, X11, X12, X13\n",
      "\u001b[32mdbl\u001b[39m (5): X1, X2, X3, X7, X14\n",
      "\n",
      "\u001b[36mℹ\u001b[39m Use `spec()` to retrieve the full column specification for this data.\n",
      "\u001b[36mℹ\u001b[39m Specify the column types or set `show_col_types = FALSE` to quiet this message.\n"
     ]
    },
    {
     "data": {
      "text/html": [
       "<table class=\"dataframe\">\n",
       "<caption>A tibble: 6 × 14</caption>\n",
       "<thead>\n",
       "\t<tr><th scope=col>age</th><th scope=col>sex</th><th scope=col>chest_pain_type</th><th scope=col>rest_bp</th><th scope=col>serum_cholesterol</th><th scope=col>fasting_bs</th><th scope=col>rest_ecg_results</th><th scope=col>max_heartrate</th><th scope=col>exercise_angina</th><th scope=col>st_depression</th><th scope=col>slope_type</th><th scope=col>num_coloured_flourosopy</th><th scope=col>thal</th><th scope=col>diagnosis</th></tr>\n",
       "\t<tr><th scope=col>&lt;dbl&gt;</th><th scope=col>&lt;dbl&gt;</th><th scope=col>&lt;dbl&gt;</th><th scope=col>&lt;chr&gt;</th><th scope=col>&lt;chr&gt;</th><th scope=col>&lt;chr&gt;</th><th scope=col>&lt;chr&gt;</th><th scope=col>&lt;chr&gt;</th><th scope=col>&lt;chr&gt;</th><th scope=col>&lt;chr&gt;</th><th scope=col>&lt;chr&gt;</th><th scope=col>&lt;chr&gt;</th><th scope=col>&lt;chr&gt;</th><th scope=col>&lt;dbl&gt;</th></tr>\n",
       "</thead>\n",
       "<tbody>\n",
       "\t<tr><td>28</td><td>1</td><td>2</td><td>130</td><td>132</td><td>0</td><td>2</td><td>185</td><td>0</td><td>0</td><td>?</td><td>?</td><td>?</td><td>0</td></tr>\n",
       "\t<tr><td>29</td><td>1</td><td>2</td><td>120</td><td>243</td><td>0</td><td>0</td><td>160</td><td>0</td><td>0</td><td>?</td><td>?</td><td>?</td><td>0</td></tr>\n",
       "\t<tr><td>29</td><td>1</td><td>2</td><td>140</td><td>?  </td><td>0</td><td>0</td><td>170</td><td>0</td><td>0</td><td>?</td><td>?</td><td>?</td><td>0</td></tr>\n",
       "\t<tr><td>30</td><td>0</td><td>1</td><td>170</td><td>237</td><td>0</td><td>1</td><td>170</td><td>0</td><td>0</td><td>?</td><td>?</td><td>6</td><td>0</td></tr>\n",
       "\t<tr><td>31</td><td>0</td><td>2</td><td>100</td><td>219</td><td>0</td><td>1</td><td>150</td><td>0</td><td>0</td><td>?</td><td>?</td><td>?</td><td>0</td></tr>\n",
       "\t<tr><td>32</td><td>0</td><td>2</td><td>105</td><td>198</td><td>0</td><td>0</td><td>165</td><td>0</td><td>0</td><td>?</td><td>?</td><td>?</td><td>0</td></tr>\n",
       "</tbody>\n",
       "</table>\n"
      ],
      "text/latex": [
       "A tibble: 6 × 14\n",
       "\\begin{tabular}{llllllllllllll}\n",
       " age & sex & chest\\_pain\\_type & rest\\_bp & serum\\_cholesterol & fasting\\_bs & rest\\_ecg\\_results & max\\_heartrate & exercise\\_angina & st\\_depression & slope\\_type & num\\_coloured\\_flourosopy & thal & diagnosis\\\\\n",
       " <dbl> & <dbl> & <dbl> & <chr> & <chr> & <chr> & <chr> & <chr> & <chr> & <chr> & <chr> & <chr> & <chr> & <dbl>\\\\\n",
       "\\hline\n",
       "\t 28 & 1 & 2 & 130 & 132 & 0 & 2 & 185 & 0 & 0 & ? & ? & ? & 0\\\\\n",
       "\t 29 & 1 & 2 & 120 & 243 & 0 & 0 & 160 & 0 & 0 & ? & ? & ? & 0\\\\\n",
       "\t 29 & 1 & 2 & 140 & ?   & 0 & 0 & 170 & 0 & 0 & ? & ? & ? & 0\\\\\n",
       "\t 30 & 0 & 1 & 170 & 237 & 0 & 1 & 170 & 0 & 0 & ? & ? & 6 & 0\\\\\n",
       "\t 31 & 0 & 2 & 100 & 219 & 0 & 1 & 150 & 0 & 0 & ? & ? & ? & 0\\\\\n",
       "\t 32 & 0 & 2 & 105 & 198 & 0 & 0 & 165 & 0 & 0 & ? & ? & ? & 0\\\\\n",
       "\\end{tabular}\n"
      ],
      "text/markdown": [
       "\n",
       "A tibble: 6 × 14\n",
       "\n",
       "| age &lt;dbl&gt; | sex &lt;dbl&gt; | chest_pain_type &lt;dbl&gt; | rest_bp &lt;chr&gt; | serum_cholesterol &lt;chr&gt; | fasting_bs &lt;chr&gt; | rest_ecg_results &lt;chr&gt; | max_heartrate &lt;chr&gt; | exercise_angina &lt;chr&gt; | st_depression &lt;chr&gt; | slope_type &lt;chr&gt; | num_coloured_flourosopy &lt;chr&gt; | thal &lt;chr&gt; | diagnosis &lt;dbl&gt; |\n",
       "|---|---|---|---|---|---|---|---|---|---|---|---|---|---|\n",
       "| 28 | 1 | 2 | 130 | 132 | 0 | 2 | 185 | 0 | 0 | ? | ? | ? | 0 |\n",
       "| 29 | 1 | 2 | 120 | 243 | 0 | 0 | 160 | 0 | 0 | ? | ? | ? | 0 |\n",
       "| 29 | 1 | 2 | 140 | ?   | 0 | 0 | 170 | 0 | 0 | ? | ? | ? | 0 |\n",
       "| 30 | 0 | 1 | 170 | 237 | 0 | 1 | 170 | 0 | 0 | ? | ? | 6 | 0 |\n",
       "| 31 | 0 | 2 | 100 | 219 | 0 | 1 | 150 | 0 | 0 | ? | ? | ? | 0 |\n",
       "| 32 | 0 | 2 | 105 | 198 | 0 | 0 | 165 | 0 | 0 | ? | ? | ? | 0 |\n",
       "\n"
      ],
      "text/plain": [
       "  age sex chest_pain_type rest_bp serum_cholesterol fasting_bs rest_ecg_results\n",
       "1 28  1   2               130     132               0          2               \n",
       "2 29  1   2               120     243               0          0               \n",
       "3 29  1   2               140     ?                 0          0               \n",
       "4 30  0   1               170     237               0          1               \n",
       "5 31  0   2               100     219               0          1               \n",
       "6 32  0   2               105     198               0          0               \n",
       "  max_heartrate exercise_angina st_depression slope_type\n",
       "1 185           0               0             ?         \n",
       "2 160           0               0             ?         \n",
       "3 170           0               0             ?         \n",
       "4 170           0               0             ?         \n",
       "5 150           0               0             ?         \n",
       "6 165           0               0             ?         \n",
       "  num_coloured_flourosopy thal diagnosis\n",
       "1 ?                       ?    0        \n",
       "2 ?                       ?    0        \n",
       "3 ?                       ?    0        \n",
       "4 ?                       6    0        \n",
       "5 ?                       ?    0        \n",
       "6 ?                       ?    0        "
      ]
     },
     "metadata": {},
     "output_type": "display_data"
    }
   ],
   "source": [
    "hungarian_data <- read_delim(\"processed.hungarian.data\", delim = \",\", col_names = FALSE)\n",
    "colnames(hungarian_data) <- c(\"age\", \"sex\", \"chest_pain_type\", \"rest_bp\", \"serum_cholesterol\", \"fasting_bs\", \"rest_ecg_results\",\n",
    "                             \"max_heartrate\", \"exercise_angina\", \"st_depression\", \"slope_type\", \"num_coloured_flourosopy\", \"thal\", \"diagnosis\")\n",
    "\n",
    "cleveland_data <- read_delim(\"processed.cleveland.data\", delim = \",\", col_names = FALSE)\n",
    "colnames(cleveland_data) <- c(\"age\", \"sex\", \"chest_pain_type\", \"rest_bp\", \"serum_cholesterol\", \"fasting_bs\", \"rest_ecg_results\",\n",
    "                             \"max_heartrate\", \"exercise_angina\", \"st_depression\", \"slope_type\", \"num_coloured_flourosopy\", \"thal\", \"diagnosis\")\n",
    "\n",
    "switzerland_data <- read_delim(\"processed.switzerland.data\", delim = \",\", col_names = FALSE)\n",
    "colnames(switzerland_data) <- c(\"age\", \"sex\", \"chest_pain_type\", \"rest_bp\", \"serum_cholesterol\", \"fasting_bs\", \"rest_ecg_results\",\n",
    "                             \"max_heartrate\", \"exercise_angina\", \"st_depression\", \"slope_type\", \"num_coloured_flourosopy\", \"thal\", \"diagnosis\")\n",
    "\n",
    "va_data <- read_delim(\"processed.va.data\", delim = \",\", col_names = FALSE)\n",
    "colnames(va_data) <- c(\"age\", \"sex\", \"chest_pain_type\", \"rest_bp\", \"serum_cholesterol\", \"fasting_bs\", \"rest_ecg_results\",\n",
    "                             \"max_heartrate\", \"exercise_angina\", \"st_depression\", \"slope_type\", \"num_coloured_flourosopy\", \"thal\", \"diagnosis\")\n",
    "\n",
    "stacked_data <- rbind(hungarian_data, va_data, switzerland_data, cleveland_data)\n",
    "head(stacked_data)"
   ]
  },
  {
   "cell_type": "markdown",
   "id": "79d48ff4-d5e0-4732-9f85-5a9634a64599",
   "metadata": {},
   "source": [
    "**Beginning of Tidying**\n",
    "***"
   ]
  },
  {
   "cell_type": "code",
   "execution_count": null,
   "id": "81bb6a98-27dc-4d5d-a2e8-a0340d3f8983",
   "metadata": {
    "tags": []
   },
   "outputs": [],
   "source": [
    "editedData <- stacked_data\n",
    "\n",
    "idx <- editedData == \"?\"\n",
    "# replace \"?\" values with NA\n",
    "is.na(editedData) <- idx\n",
    "\n",
    "navalues <- colSums(is.na(editedData))\n",
    "navalues"
   ]
  },
  {
   "cell_type": "code",
   "execution_count": null,
   "id": "a2b0fa55-2537-40b7-850b-79ae72c62fd2",
   "metadata": {},
   "outputs": [],
   "source": [
    "#Removing columns with too many NA values and then removing observations with NA\n",
    "editedData <- editedData |>\n",
    "    select(-slope_type, -num_coloured_flourosopy, -thal) |>\n",
    "    na.omit()"
   ]
  },
  {
   "cell_type": "code",
   "execution_count": null,
   "id": "71ff96ff-151c-4682-b804-300210b6a27f",
   "metadata": {},
   "outputs": [],
   "source": [
    "for(i in 1:nrow(editedData)) {       # for-loop over rows\n",
    "    if(editedData$sex[i] == 1){\n",
    "      editedData$sex[i] <- \"Male\"\n",
    "    }else{\n",
    "      editedData$sex[i]<- \"Female\"\n",
    "      }\n",
    "    \n",
    "    if(editedData$chest_pain_type[i] == 1){\n",
    "      editedData$chest_pain_type[i] <- \"Typical Angina\"\n",
    "    }\n",
    "\n",
    "    if(editedData$chest_pain_type[i] == 2){\n",
    "      editedData$chest_pain_type[i] <- \"Atypical Angina\"\n",
    "    }\n",
    "\n",
    "    if(editedData$chest_pain_type[i] == 3){\n",
    "      editedData$chest_pain_type[i] <- \"Non-Anginal Pain\"\n",
    "    }\n",
    "\n",
    "    if(editedData$chest_pain_type[i] == 4){\n",
    "      editedData$chest_pain_type[i] <- \"Asymptomatic\"\n",
    "    }\n",
    "\n",
    "    if(editedData$diagnosis[i] == 0){\n",
    "      editedData$diagnosis[i] <- \"< 50% Diameter Narrowing\"\n",
    "    }else{\n",
    "      editedData$diagnosis[i] <- \"> 50% Diameter Narrowing\"\n",
    "    }  \n",
    "\n",
    "    if(!is.na(editedData$rest_ecg_results[i])){\n",
    "       if(editedData$rest_ecg_results[i] == 0){\n",
    "          editedData$rest_ecg_results[i] <- \"Normal\"\n",
    "             }\n",
    "    \n",
    "        if(editedData$rest_ecg_results[i] == 1){\n",
    "          editedData$rest_ecg_results[i] <- \"ST-T Wave Abnormality\"\n",
    "             }\n",
    "    \n",
    "         if(editedData$rest_ecg_results[i] == 2){\n",
    "          editedData$rest_ecg_results[i] <- \"Probable or Definite Left Ventricular Hypertrophy\"\n",
    "             }\n",
    "        \n",
    "        }\n",
    "\n",
    " if(!is.na(editedData$fasting_bs[i])){\n",
    "\n",
    "    if(editedData$fasting_bs[i] == 0){\n",
    "          editedData$fasting_bs[i] <- \"False\"\n",
    "             }\n",
    "    \n",
    "    if(editedData$fasting_bs[i] == 1){\n",
    "          editedData$fasting_bs[i] <- \"True\"\n",
    "             }\n",
    "     }\n",
    "\n",
    "    \n",
    "     if(!is.na(editedData$exercise_angina[i])){\n",
    "        if(editedData$exercise_angina[i] == 0){\n",
    "              editedData$exercise_angina[i] <- \"No\"\n",
    "                 }\n",
    "        \n",
    "        if(editedData$exercise_angina[i] == 1){\n",
    "              editedData$exercise_angina[i] <- \"Yes\"\n",
    "                 }\n",
    "         }\n",
    "\n",
    "#    if(!is.na(editedData$thal[i])){\n",
    "#        if(editedData$thal[i] == 3){editedData$thal[i] <- \"normal\"}\n",
    "#        \n",
    "#        if(editedData$thal[i] == 6){editedData$thal[i] <- \"fixed defect\"}\n",
    "#         \n",
    "#        if(editedData$thal[i] == 7){editedData$thal[i] <- \"reversable defect\"}\n",
    "#             }\n",
    "    \n",
    "\n",
    "#     if(!is.na(editedData$slope_type[i])){\n",
    "#       if(editedData$slope_type[i] == 1){editedData$slope_type[i] <- \"upsloping\"}\n",
    "#    \n",
    "#       if(editedData$slope_type[i] == 2){editedData$slope_type[i] <- \"flat\"}\n",
    "#    \n",
    "#       if(editedData$slope_type[i] == 3){editedData$slope_type[i] <- \"downsloping\"}\n",
    "#        }\n",
    "\n",
    "}"
   ]
  },
  {
   "cell_type": "code",
   "execution_count": null,
   "id": "7a87a31d-6b38-4c4b-9feb-f71d494f3561",
   "metadata": {
    "tags": []
   },
   "outputs": [],
   "source": [
    "#Removing incorrect 0 values\n",
    "editedData <- editedData |>\n",
    "    filter(age != 0) |>\n",
    "    filter(rest_bp != 0) |>\n",
    "    filter(serum_cholesterol != 0) |>\n",
    "    filter(max_heartrate != 0)"
   ]
  },
  {
   "cell_type": "code",
   "execution_count": null,
   "id": "cb1e5a56-ba70-4af2-9d3f-029fc5847495",
   "metadata": {
    "tags": []
   },
   "outputs": [],
   "source": [
    "#Changing data types\n",
    "editedData <- editedData |>\n",
    "    mutate(sex = as.factor(sex)) |>\n",
    "    mutate(chest_pain_type = as.factor(chest_pain_type)) |>\n",
    "    mutate(rest_bp = as.numeric(rest_bp)) |>\n",
    "    mutate(fasting_bs = as.factor(fasting_bs)) |>\n",
    "    mutate(rest_ecg_results = as.factor(rest_ecg_results)) |>\n",
    "    mutate(max_heartrate = as.numeric(max_heartrate)) |>\n",
    "    mutate(exercise_angina = as.factor(exercise_angina)) |>\n",
    "    mutate(st_depression = as.numeric(st_depression)) |>\n",
    "    mutate(diagnosis = as.factor(diagnosis))\n",
    "#editedData |> distinct()"
   ]
  },
  {
   "cell_type": "markdown",
   "id": "c54e3916-fba9-43e8-8d0b-6e0500e374c2",
   "metadata": {},
   "source": [
    "***\n",
    "**End of Tidying** <br>"
   ]
  },
  {
   "cell_type": "markdown",
   "id": "3a38aba5-d9b0-4b6d-9182-575fddc6c570",
   "metadata": {},
   "source": [
    "After summarizing the data for our analysis and tidying the data, our new data set looks like this:"
   ]
  },
  {
   "cell_type": "code",
   "execution_count": null,
   "id": "7ea9ac5b-07ff-4eab-bfc4-846183f336c3",
   "metadata": {
    "tags": []
   },
   "outputs": [],
   "source": [
    "head(editedData)"
   ]
  },
  {
   "cell_type": "markdown",
   "id": "d0576ec3-f154-490d-8ed6-edbdc579e37e",
   "metadata": {},
   "source": [
    "To determine which variables might show useful differentiation between the types of pain, we created several scatter and bar plots as seen below. Note that scatter plots were used to visualize the distribution of numeric values rather than histograms, as creating separate histograms for each predictor would have resulted in a large and difficult to interpret group of charts."
   ]
  },
  {
   "cell_type": "code",
   "execution_count": null,
   "id": "d9ad753f-05ef-41c3-be69-4c98ded1d9d7",
   "metadata": {
    "tags": []
   },
   "outputs": [],
   "source": [
    "data_split <- initial_split(editedData, prop = 0.75, strata = chest_pain_type)\n",
    "data_train <- training(data_split)\n",
    "data_test <- testing(data_split) "
   ]
  },
  {
   "cell_type": "code",
   "execution_count": null,
   "id": "984fb2bb-2b96-41ed-b16d-6a53e4946dd3",
   "metadata": {},
   "outputs": [],
   "source": [
    "#Making scatter Plot\n",
    "\n",
    "options(repr.plot.height = 10, repr.plot.width = 12)\n",
    "#serum_cholesterol, age, rest_bp, max_heartrate\n",
    "\n",
    "PainVsSerum <- data_train |> \n",
    "    ggplot(aes(x = chest_pain_type, y = as.numeric(serum_cholesterol))) + \n",
    "    geom_point(alpha = 0.25) + \n",
    "    labs(x= \"Chest Pain Type\", title=\"Cholesterol vs Chest Pain Type\") +\n",
    "    scale_x_discrete(labels = c(\"Asymptomatic\", \"Atypical Angina\", \"Non-Anginal Pain\", \"Typical Angina\")) +\n",
    "    scale_y_continuous(\"Cholesterol (mg/dl)\", breaks = seq(0, 700, by = 100)) +\n",
    "    theme(axis.text.x = element_text(angle = 45, hjust = 1))\n",
    "\n",
    "PainVsAge <- data_train |> \n",
    "    ggplot(aes(x = chest_pain_type, y = age)) + \n",
    "    geom_point(alpha = 0.25) + \n",
    "    labs(x= \"Chest Pain Type\", title=\"Age vs Chest Pain Type\") +\n",
    "    scale_x_discrete(labels = c(\"Asymptomatic\", \"Atypical Angina\", \"Non-Anginal Pain\", \"Typical Angina\")) +\n",
    "    scale_y_continuous(\"Age (Years)\", breaks = seq(0, 100, by = 10)) +\n",
    "    theme(axis.text.x = element_text(angle = 45, hjust = 1))\n",
    "\n",
    "PainVsRHR <- data_train |> \n",
    "    ggplot(aes(x = chest_pain_type, y = rest_bp)) + \n",
    "    geom_point(alpha = 0.25) + \n",
    "    labs(x= \"Chest Pain Type\", title=\"Rest Blood Pressure vs Chest Pain Type\") +\n",
    "    scale_x_discrete(labels = c(\"Asymptomatic\", \"Atypical Angina\", \"Non-Anginal Pain\", \"Typical Angina\")) +\n",
    "    scale_y_continuous(\"Resting Blood Pressure (mmHg)\", breaks = seq(0, 200, by = 20)) +\n",
    "    theme(axis.text.x = element_text(angle = 45, hjust = 1))\n",
    "\n",
    "PainVsMHR <- data_train |> \n",
    "    ggplot(aes(x = chest_pain_type, y = max_heartrate)) + \n",
    "    geom_point(alpha = 0.25) + \n",
    "    labs(x= \"Chest Pain Type\", title=\"Max Heart Rate vs Chest Pain Type\") +\n",
    "    scale_x_discrete(labels = c(\"Asymptomatic\", \"Atypical Angina\", \"Non-Anginal Pain\", \"Typical Angina\")) +\n",
    "    scale_y_continuous(\"Max Heart Rate (BPM)\", breaks = seq(0, 300, by = 30)) +\n",
    "    theme(axis.text.x = element_text(angle = 45, hjust = 1))\n",
    "\n",
    "PainVsDepression <- data_train |> \n",
    "    ggplot(aes(x = chest_pain_type, y = st_depression)) + \n",
    "    geom_point(alpha = 0.25) + \n",
    "    labs(x= \"Chest Pain Type\", title=\"Standard Depression vs Chest Pain Type\") +\n",
    "    scale_x_discrete(labels = c(\"Asymptomatic\", \"Atypical Angina\", \"Non-Anginal Pain\", \"Typical Angina\")) +\n",
    "    scale_y_continuous(\"Standard Depression\", breaks = seq(0, 10, by = 1)) +\n",
    "    theme(axis.text.x = element_text(angle = 45, hjust = 1))\n",
    "\n",
    "PainVsSerum + PainVsAge + PainVsRHR + PainVsMHR + PainVsDepression + \n",
    "  plot_layout(ncol = 3)"
   ]
  },
  {
   "cell_type": "code",
   "execution_count": null,
   "id": "ce2acfd7-0db8-4fac-be7e-c2395156064f",
   "metadata": {},
   "outputs": [],
   "source": [
    "#Making bar plots\n",
    "PainVsSex <- data_train |>\n",
    "    na.omit() |>\n",
    "    ggplot(aes(x = chest_pain_type, fill = sex)) +\n",
    "    geom_bar(position = \"fill\") +\n",
    "    scale_x_discrete(labels = c(\"Asymptomatic\", \"Atypical Angina\", \"Non-Anginal Pain\", \"Typical Angina\")) +\n",
    "    theme(axis.text.x = element_text(angle = 45, hjust = 1), plot.title = element_text(hjust = 0.5)) +    \n",
    "    labs(x= \"Chest Pain Type\", y = \"Proportion\", title=\"Ratio of Sex \\n by Chest Pain Type\", fill = \"Sex\")\n",
    "\n",
    "PainVsFastingBS <- data_train |>\n",
    "    na.omit() |>\n",
    "    ggplot(aes(x = chest_pain_type, fill = fasting_bs)) +\n",
    "    geom_bar(position = \"fill\") +\n",
    "    scale_x_discrete(labels = c(\"Asymptomatic\", \"Atypical Angina\", \"Non-Anginal Pain\", \"Typical Angina\")) +\n",
    "    theme(axis.text.x = element_text(angle = 45, hjust = 1), plot.title = element_text(hjust = 0.5)) +    \n",
    "    labs(x= \"Chest Pain Type\", y = \"Proportion\", title=\"Ratio of High Fasting Blood Sugar \\n by Chest Pain Type\", fill = \"High Fasting Blood Sugar\")\n",
    "\n",
    "PainVsRestECG <- data_train |>\n",
    "    na.omit() |>\n",
    "    ggplot(aes(x = chest_pain_type, fill = rest_ecg_results)) +\n",
    "    geom_bar(position = \"fill\") +\n",
    "    scale_x_discrete(labels = c(\"Asymptomatic\", \"Atypical Angina\", \"Non-Anginal Pain\", \"Typical Angina\")) +\n",
    "    theme(axis.text.x = element_text(angle = 45, hjust = 1), plot.title = element_text(hjust = 0.5)) +    \n",
    "    labs(x= \"Chest Pain Type\", y = \"Proportion\", title=\"Ratio of Resting ECG Measurements \\n by Chest Pain Type\", fill = \"Resting ECG Measurement\")\n",
    "\n",
    "PainVsExerciseAngina <- data_train |>\n",
    "    na.omit() |>\n",
    "    ggplot(aes(x = chest_pain_type, fill = exercise_angina)) +\n",
    "    geom_bar(position = \"fill\") +\n",
    "    scale_x_discrete(labels = c(\"Asymptomatic\", \"Atypical Angina\", \"Non-Anginal Pain\", \"Typical Angina\")) +\n",
    "    theme(axis.text.x = element_text(angle = 45, hjust = 1), plot.title = element_text(hjust = 0.5)) +    \n",
    "    labs(x= \"Chest Pain Type\", y = \"Proportion\", title=\"Ratio of Exercise Angina \\n by Chest Pain Type\", fill = \"Exercise Angina\")\n",
    "\n",
    "PainVsDiagnosis <- data_train |>\n",
    "    na.omit() |>\n",
    "    ggplot(aes(x = chest_pain_type, fill = diagnosis)) +\n",
    "    geom_bar(position = \"fill\") +\n",
    "    scale_x_discrete(labels = c(\"Asymptomatic\", \"Atypical Angina\", \"Non-Anginal Pain\", \"Typical Angina\")) +\n",
    "    theme(axis.text.x = element_text(angle = 45, hjust = 1), plot.title = element_text(hjust = 0.5)) +    \n",
    "    labs(x= \"Chest Pain Type\", y = \"Proportion\", title=\"Ratio of Diagnoses \\n by Chest Pain Type\", fill = \"Diagnosis\")\n",
    "\n",
    "PainVsSex + PainVsFastingBS + PainVsRestECG + PainVsExerciseAngina + PainVsDiagnosis +\n",
    "    plot_layout(ncol = 3)"
   ]
  },
  {
   "cell_type": "markdown",
   "id": "7372516a-030d-4516-96c5-6350f34d59ca",
   "metadata": {},
   "source": [
    "## **Methods**\n",
    "\n",
    "In our analysis, we will use cholesterol, resting blood pressure, max heart rate, ST-depression, exercise angina, and diagnosis as our predictors. We chose many predictors as our preliminary visualizations did not indicate a particularly strong correlation between any of the individual predictors and chest pain type, and thus must use a large range of predictors which may allow the classifier to narrow down what category of chest pain to assign to a new observation. We eliminated sex, blood sugar, and ECG measurements as they seemed to distribute very similarly across all pain types. <br>\n",
    "For our final visualization, we plan on creating a scatterplot matrix showing how each variable relates to another. The shape and colour of each point will correspond to its chest pain type, and we can visualize new observations across the multiple grids to see if our predictors do a good job of evaluating the likely class of the new observation. An example is below, albeit without full formatting."
   ]
  },
  {
   "cell_type": "code",
   "execution_count": 4,
   "id": "8d39d7a6-68a1-4702-b8cd-3eafdf3832de",
   "metadata": {
    "tags": []
   },
   "outputs": [
    {
     "ename": "ERROR",
     "evalue": "Error in ggpairs(trees): could not find function \"ggpairs\"\n",
     "output_type": "error",
     "traceback": [
      "Error in ggpairs(trees): could not find function \"ggpairs\"\nTraceback:\n"
     ]
    }
   ],
   "source": [
    "options(repr.plot.width = 9, repr.plot.height = 6)\n",
    "data(trees)\n",
    "ggpairs(trees)"
   ]
  },
  {
   "cell_type": "markdown",
   "id": "c1cf3856-4f56-48a9-8aa2-c5a0c0e40207",
   "metadata": {
    "tags": []
   },
   "source": [
    "## **Expected Outcomes and Significance**\n",
    "\n",
    "What do you expect to find?\n",
    "- Age and Chest Pain: The data may reveal patterns that suggest certain types of Chest Pain are more prevalent in specific Age groups.\n",
    "  \n",
    "- Cholesterol and Chest Pain: Higher Cholesterol levels may be associated with a higher likelihood of developing Chest Pain.\n",
    "  \n",
    "- Resting Blood Pressure and Chest Pain: Higher Resting Blood Pressure levels may be associated with a higher likelihood of developing a certain Chest Pain.\n",
    "\n",
    "\n",
    "What impact could such findings have?\n",
    "- Risk assessment: Healthcare providers can use these findings to improve risk assessment for patients.\n",
    "  \n",
    "- Treatment Strategies and Recommendations: Providing treatment strategies to specific patient groups based on the age and the level of cholesterol.\n",
    "  \n",
    "- Precaution: These findings can provide information to preventive care measures, such as suggesting cholesterol-low intervention for younger adults with a family history of heart disease.\n",
    "  \n",
    "- Developing new treatment and drugs: These findings can help to discover new treatments and drugs that can improve the treatments and prevention of disease.\n",
    "  \n",
    "- Reducing health care/operation costs: Through this finding more economical treatments can be found to help efficiently reduce health care costs.\n",
    "\n",
    "What future questions could this lead to?\n",
    "- How does the data from Hungary compare to one of the other data set from Switzerland, Cleveland and VA Long Beach\n",
    "  \n",
    "- One future question if we find a pattern between the types of chest pain and the 2 variables is, Why age/different levels of cholesterol result/resting blood pressure in different types of chest pains?\n",
    "\n",
    "- Whether there are genetic factors that interact with age, cholesterol and resting blood pressure that affect the likelihood of chest pain?\n",
    "  \n",
    "- How do these associations affect long-term cardiovascular outcomes and outcomes in patients with chest pain?\n"
   ]
  },
  {
   "cell_type": "code",
   "execution_count": null,
   "id": "44c97c74-76db-450f-bdbb-a079b86dfb9a",
   "metadata": {
    "tags": []
   },
   "outputs": [],
   "source": []
  }
 ],
 "metadata": {
  "kernelspec": {
   "display_name": "R",
   "language": "R",
   "name": "ir"
  },
  "language_info": {
   "codemirror_mode": "r",
   "file_extension": ".r",
   "mimetype": "text/x-r-source",
   "name": "R",
   "pygments_lexer": "r",
   "version": "4.2.2"
  },
  "widgets": {
   "application/vnd.jupyter.widget-state+json": {
    "state": {},
    "version_major": 2,
    "version_minor": 0
   }
  }
 },
 "nbformat": 4,
 "nbformat_minor": 5
}
