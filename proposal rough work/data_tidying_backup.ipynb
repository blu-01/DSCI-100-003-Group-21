{
 "cells": [
  {
   "cell_type": "code",
   "execution_count": null,
   "id": "ef7b45c8-9323-4d37-8afd-646e37a47ebb",
   "metadata": {},
   "outputs": [],
   "source": [
    "#editedData <- stacked_data\n",
    "#\n",
    "#idx <- editedData == \"?\"\n",
    "# replace \"?\" values with NA\n",
    "#is.na(editedData) <- idx\n",
    "\n",
    "#for(i in 1:nrow(editedData)) {       # for-loop over rows\n",
    "#    if(editedData$sex[i] == 1){\n",
    "#      editedData$sex[i] <- \"male\"\n",
    "#    }else{\n",
    "#      editedData$sex[i]<- \"female\"\n",
    "#      }\n",
    "#    \n",
    "#    if(editedData$chest_pain_type[i] == 1){\n",
    "#      editedData$chest_pain_type[i] <- \"typical angina\"\n",
    "#    }\n",
    "#\n",
    "#    if(editedData$chest_pain_type[i] == 2){\n",
    "#      editedData$chest_pain_type[i] <- \"atypical angina\"\n",
    "#    }\n",
    "#\n",
    "#    if(editedData$chest_pain_type[i] == 3){\n",
    "#      editedData$chest_pain_type[i] <- \"non-anginal pain\"\n",
    "#    }\n",
    "#\n",
    "#    if(editedData$chest_pain_type[i] == 4){\n",
    "#      editedData$chest_pain_type[i] <- \"asymptomatic\"\n",
    "#    }\n",
    "#}"
   ]
  }
 ],
 "metadata": {
  "kernelspec": {
   "display_name": "R",
   "language": "R",
   "name": "ir"
  },
  "language_info": {
   "codemirror_mode": "r",
   "file_extension": ".r",
   "mimetype": "text/x-r-source",
   "name": "R",
   "pygments_lexer": "r",
   "version": "4.2.2"
  }
 },
 "nbformat": 4,
 "nbformat_minor": 5
}
