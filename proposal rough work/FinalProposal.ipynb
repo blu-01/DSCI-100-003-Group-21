{
 "cells": [
  {
   "cell_type": "code",
   "execution_count": null,
   "id": "63102d5d-b22a-4eb6-b54b-0a43c4e8e9f1",
   "metadata": {
    "tags": []
   },
   "outputs": [],
   "source": [
    "install.packages(\"GGally\")\n",
    "library(tidyverse)\n",
    "library(tidymodels)\n",
    "library(patchwork)\n",
    "library(GGally)\n",
    "install.packages(\"kknn\")"
   ]
  },
  {
   "cell_type": "markdown",
   "id": "4758235a-f5e7-4b39-9103-69c2b332e4fb",
   "metadata": {},
   "source": [
    "## Title "
   ]
  },
  {
   "cell_type": "markdown",
   "id": "8e0e5723-0a6c-47d5-ad79-cdf147fad9f8",
   "metadata": {
    "tags": []
   },
   "source": [
    "### Chest Pain Classification Using KNN"
   ]
  },
  {
   "cell_type": "markdown",
   "id": "9027655c-90c1-43fe-b23f-5f4497d116c9",
   "metadata": {
    "tags": []
   },
   "source": [
    "## Introduction "
   ]
  },
  {
   "cell_type": "markdown",
   "id": "e93ff17b-7c51-4fa5-900e-2ad5dfc7ae4f",
   "metadata": {},
   "source": [
    "### Background Information:\n",
    "Heart disease refers to a range of conditions that affect the heart. Various factors, such as age, lifestyle, and genetics, can influence the chances of an individual getting heart disease. We want to understand what factors are related to certain chest pain types.\n",
    "\n",
    "The KNN algorithim works as follows, based on the K (this can be any number eg: 1,2,3) nearest neighbors, we will take the classification of them and say this observation is of that classification. We use proximity to make classifications or predictions about the grouping of an individual data point.\n",
    "\n",
    "Example: If a certain observation has an unknown classification and it's K nearest neighbors are all of type \"Burger\" then this observation will be of type burger!\n",
    "\n",
    "### The Question:\n",
    "Can we determine what type of chest pain a patient is likely experiencing based on only their age and cholesterol levels?\n",
    "\n",
    "### Dataset:\n",
    "The dataset that we will be using is titled “Heart Disease”.  It contains observations from various locations published as 4 experiment databases, each including the same subset of 14 attributes. For ease of reading, we chose to use the processed experiment files for our data.\n"
   ]
  },
  {
   "cell_type": "markdown",
   "id": "0c4425b1-e517-4370-a2d4-a934e646d56a",
   "metadata": {},
   "source": [
    "## Methods & Results"
   ]
  },
  {
   "cell_type": "markdown",
   "id": "ba9502d2-1dab-4c87-ad09-6e6c16e9e908",
   "metadata": {},
   "source": [
    "### Pre Analysis:\n",
    "\n",
    "To read the data, we first downloaded the data set. We then looked through the files and realized that only the processed data was likely to be readable with our current knowledge, and thus chose to use the 4 processed files.\n",
    "<br>\n",
    "\n",
    "After reading the files and looking through the heart-disease.names file for the descriptions of each attribute, we gave the table columns appropriate names to ensure the data would be understandable.\n",
    "Below is the original data with added column names:"
   ]
  },
  {
   "cell_type": "code",
   "execution_count": null,
   "id": "91b06b5c-5d96-45f9-a2f4-6fee8183e185",
   "metadata": {
    "tags": []
   },
   "outputs": [],
   "source": [
    "hungarian_data <- read_delim(\"https://raw.githubusercontent.com/blu-01/DSCI-100-003-Group-21/main/proposal%20rough%20work/processed.hungarian.data\", delim = \",\", col_names = FALSE)\n",
    "colnames(hungarian_data) <- c(\"age\", \"sex\", \"chest_pain_type\", \"rest_bp\", \"serum_cholesterol\", \"fasting_bs\", \"rest_ecg_results\",\n",
    "                             \"max_heartrate\", \"exercise_angina\", \"st_depression\", \"slope_type\", \"num_coloured_flourosopy\", \"thal\", \"diagnosis\")\n",
    "\n",
    "cleveland_data <- read_delim(\"https://raw.githubusercontent.com/blu-01/DSCI-100-003-Group-21/main/proposal%20rough%20work/processed.cleveland.data\", delim = \",\", col_names = FALSE)\n",
    "colnames(cleveland_data) <- c(\"age\", \"sex\", \"chest_pain_type\", \"rest_bp\", \"serum_cholesterol\", \"fasting_bs\", \"rest_ecg_results\",\n",
    "                             \"max_heartrate\", \"exercise_angina\", \"st_depression\", \"slope_type\", \"num_coloured_flourosopy\", \"thal\", \"diagnosis\")\n",
    "\n",
    "switzerland_data <- read_delim(\"https://raw.githubusercontent.com/blu-01/DSCI-100-003-Group-21/main/proposal%20rough%20work/processed.switzerland.data\", delim = \",\", col_names = FALSE)\n",
    "colnames(switzerland_data) <- c(\"age\", \"sex\", \"chest_pain_type\", \"rest_bp\", \"serum_cholesterol\", \"fasting_bs\", \"rest_ecg_results\",\n",
    "                             \"max_heartrate\", \"exercise_angina\", \"st_depression\", \"slope_type\", \"num_coloured_flourosopy\", \"thal\", \"diagnosis\")\n",
    "\n",
    "va_data <- read_delim(\"https://raw.githubusercontent.com/blu-01/DSCI-100-003-Group-21/main/proposal%20rough%20work/processed.va.data\", delim = \",\", col_names = FALSE)\n",
    "colnames(va_data) <- c(\"age\", \"sex\", \"chest_pain_type\", \"rest_bp\", \"serum_cholesterol\", \"fasting_bs\", \"rest_ecg_results\",\n",
    "                             \"max_heartrate\", \"exercise_angina\", \"st_depression\", \"slope_type\", \"num_coloured_flourosopy\", \"thal\", \"diagnosis\")\n",
    "\n",
    "stacked_data <- rbind(hungarian_data, va_data, switzerland_data, cleveland_data)\n",
    "head(stacked_data)"
   ]
  },
  {
   "cell_type": "markdown",
   "id": "9e7d05c0-21b5-422e-aed7-e44d43cd8863",
   "metadata": {},
   "source": [
    "After giving the data the correct columns, we stacked the data together to make the analyzation process easier. The next step in tidying the data was to give values within each observation the appropriate category, and to remove all NA values."
   ]
  },
  {
   "cell_type": "code",
   "execution_count": null,
   "id": "17d91c26-68fd-4644-97c1-e47888ef9e78",
   "metadata": {
    "tags": []
   },
   "outputs": [],
   "source": [
    "editedData <- stacked_data\n",
    "\n",
    "idx <- editedData == \"?\"\n",
    "# replace \"?\" values with NA\n",
    "is.na(editedData) <- idx\n",
    "\n",
    "navalues <- colSums(is.na(editedData))\n",
    "navalues"
   ]
  },
  {
   "cell_type": "code",
   "execution_count": null,
   "id": "6b6a5568-613b-4245-8c01-a59612e2c3dc",
   "metadata": {
    "tags": []
   },
   "outputs": [],
   "source": [
    "#Removing columns with too many NA values and then removing observations with NA\n",
    "editedData <- editedData |>\n",
    "    select(-slope_type, -num_coloured_flourosopy, -thal) |>\n",
    "    na.omit()"
   ]
  },
  {
   "cell_type": "code",
   "execution_count": null,
   "id": "3aedf778-c560-407c-800e-7819d686e1cc",
   "metadata": {
    "tags": []
   },
   "outputs": [],
   "source": [
    "editedData <- stacked_data\n",
    "\n",
    "idx <- editedData == \"?\"\n",
    "# replace \"?\" values with NA\n",
    "is.na(editedData) <- idx\n",
    "\n",
    "navalues <- colSums(is.na(editedData))\n",
    "navalues\n",
    "\n",
    "#Removing columns with too many NA values and then removing observations with NA\n",
    "editedData <- editedData |>\n",
    "    select(-slope_type, -num_coloured_flourosopy, -thal) |>\n",
    "    na.omit()\n",
    "for(i in 1:nrow(editedData)) {       # for-loop over rows\n",
    "    if(editedData$sex[i] == 1){\n",
    "      editedData$sex[i] <- \"Male\"\n",
    "    }else{\n",
    "      editedData$sex[i]<- \"Female\"\n",
    "      }\n",
    "    \n",
    "    if(editedData$chest_pain_type[i] == 1){\n",
    "      editedData$chest_pain_type[i] <- \"Typical Angina\"\n",
    "    }\n",
    "\n",
    "    if(editedData$chest_pain_type[i] == 2){\n",
    "      editedData$chest_pain_type[i] <- \"Atypical Angina\"\n",
    "    }\n",
    "\n",
    "    if(editedData$chest_pain_type[i] == 3){\n",
    "      editedData$chest_pain_type[i] <- \"Non-Anginal Pain\"\n",
    "    }\n",
    "\n",
    "    if(editedData$chest_pain_type[i] == 4){\n",
    "      editedData$chest_pain_type[i] <- \"Asymptomatic\"\n",
    "    }\n",
    "\n",
    "#    if(editedData$diagnosis[i] == 0){\n",
    "#      editedData$diagnosis[i] <- \"< 50% Diameter Narrowing\"\n",
    "#    }else{\n",
    "#      editedData$diagnosis[i] <- \"> 50% Diameter Narrowing\"\n",
    "#    }  \n",
    "\n",
    "    if(!is.na(editedData$rest_ecg_results[i])){\n",
    "       if(editedData$rest_ecg_results[i] == 0){\n",
    "          editedData$rest_ecg_results[i] <- \"Normal\"\n",
    "             }\n",
    "    \n",
    "        if(editedData$rest_ecg_results[i] == 1){\n",
    "          editedData$rest_ecg_results[i] <- \"ST-T Wave Abnormality\"\n",
    "             }\n",
    "    \n",
    "         if(editedData$rest_ecg_results[i] == 2){\n",
    "          editedData$rest_ecg_results[i] <- \"Probable or Definite Left Ventricular Hypertrophy\"\n",
    "             }\n",
    "        \n",
    "        }\n",
    "\n",
    " if(!is.na(editedData$fasting_bs[i])){\n",
    "\n",
    "    if(editedData$fasting_bs[i] == 0){\n",
    "          editedData$fasting_bs[i] <- \"False\"\n",
    "             }\n",
    "    \n",
    "    if(editedData$fasting_bs[i] == 1){\n",
    "          editedData$fasting_bs[i] <- \"True\"\n",
    "             }\n",
    "     }\n",
    "\n",
    "    \n",
    "     if(!is.na(editedData$exercise_angina[i])){\n",
    "        if(editedData$exercise_angina[i] == 0){\n",
    "              editedData$exercise_angina[i] <- \"No\"\n",
    "                 }\n",
    "        \n",
    "        if(editedData$exercise_angina[i] == 1){\n",
    "              editedData$exercise_angina[i] <- \"Yes\"\n",
    "                 }\n",
    "         }\n",
    "\n",
    "}\n",
    "#Removing incorrect 0 values\n",
    " editedData <- editedData |>\n",
    "    filter(age != 0) |>\n",
    "    filter(rest_bp != 0) |>\n",
    "    filter(serum_cholesterol != 0) |>\n",
    "    filter(max_heartrate != 0)\n",
    "#Changing data types\n",
    "editedData <- editedData |>\n",
    "    mutate(sex = as.factor(sex)) |>\n",
    "    mutate(chest_pain_type = as.factor(chest_pain_type)) |>\n",
    "    mutate(rest_bp = as.numeric(rest_bp)) |>\n",
    "    mutate(serum_cholesterol = as.numeric(serum_cholesterol)) |>\n",
    "    mutate(fasting_bs = as.factor(fasting_bs)) |>\n",
    "    mutate(rest_ecg_results = as.factor(rest_ecg_results)) |>\n",
    "    mutate(max_heartrate = as.numeric(max_heartrate)) |>\n",
    "    mutate(exercise_angina = as.factor(exercise_angina)) |>\n",
    "    mutate(st_depression = as.numeric(st_depression)) |>\n",
    "    mutate(diagnosis = as.factor(diagnosis))\n",
    "head(editedData)"
   ]
  },
  {
   "cell_type": "markdown",
   "id": "a1db3141-4533-4e7f-9f6c-8ec676451071",
   "metadata": {},
   "source": [
    "We chose to leave the diagnosis values as numbers, as the dataset's description files did not give any distinction between different non-zero values."
   ]
  },
  {
   "cell_type": "code",
   "execution_count": null,
   "id": "c1f28e66-5a41-48d2-b2c5-838a1ae2fb57",
   "metadata": {
    "tags": []
   },
   "outputs": [],
   "source": [
    "#Removing incorrect 0 values\n",
    "editedData <- editedData |>\n",
    "    filter(age != 0) |>\n",
    "    filter(rest_bp != 0) |>\n",
    "    filter(serum_cholesterol != 0) |>\n",
    "    filter(max_heartrate != 0)"
   ]
  },
  {
   "cell_type": "code",
   "execution_count": null,
   "id": "92a191af-a7b9-42fd-8b22-36b1c715d0c1",
   "metadata": {
    "tags": []
   },
   "outputs": [],
   "source": [
    "#Changing data types\n",
    "editedData <- editedData |>\n",
    "    mutate(sex = as.factor(sex)) |>\n",
    "    mutate(chest_pain_type = as.factor(chest_pain_type)) |>\n",
    "    mutate(rest_bp = as.numeric(rest_bp)) |>\n",
    "    mutate(fasting_bs = as.factor(fasting_bs)) |>\n",
    "    mutate(rest_ecg_results = as.factor(rest_ecg_results)) |>\n",
    "    mutate(max_heartrate = as.numeric(max_heartrate)) |>\n",
    "    mutate(exercise_angina = as.factor(exercise_angina)) |>\n",
    "    mutate(st_depression = as.numeric(st_depression)) |>\n",
    "    mutate(diagnosis = as.factor(diagnosis))"
   ]
  },
  {
   "cell_type": "markdown",
   "id": "4e4a027d-959d-4e73-b142-ded63f463127",
   "metadata": {},
   "source": [
    "After these methods, we are left with this data!\n",
    "\n",
    "Here is a sample of our data below which also marks the end of our tidying."
   ]
  },
  {
   "cell_type": "code",
   "execution_count": null,
   "id": "1e69d4ec-bb29-415f-be7e-70c082ef3fc5",
   "metadata": {
    "tags": []
   },
   "outputs": [],
   "source": [
    "head(editedData)"
   ]
  },
  {
   "cell_type": "markdown",
   "id": "4fe46705-50b7-4d8c-b564-48ebfe74e77c",
   "metadata": {},
   "source": [
    "### Analysis Methods:\n",
    "\n",
    "In our analysis, we will use cholesterol, resting blood pressure, max heart rate, ST-depression, exercise angina, and diagnosis as our predictors. We chose many predictors as our preliminary visualizations did not indicate a particularly strong correlation between any of the individual predictors and chest pain type, and thus must use a large range of predictors which may allow the classifier to narrow down what category of chest pain to assign to a new observation. We eliminated sex, blood sugar, and ECG measurements as they seemed to distribute very similarly across all pain types. \n",
    "<br>\n",
    "\n",
    "For our final visualization, we plan on creating a scatterplot matrix showing how each variable relates to another. The shape and colour of each point will correspond to its chest pain type, and we can visualize new observations across the multiple grids to see if our predictors do a good job of evaluating the likely class of the new observation. "
   ]
  },
  {
   "cell_type": "markdown",
   "id": "6dbb1c60-079e-46d4-8642-6bccbadc604a",
   "metadata": {},
   "source": [
    "### Implementation Of Analysis Methods:"
   ]
  },
  {
   "cell_type": "code",
   "execution_count": null,
   "id": "c6889d3b-9652-48b4-a535-d32973781775",
   "metadata": {},
   "outputs": [],
   "source": [
    "set.seed(100)\n",
    "\n",
    "data_split <- initial_split(editedData, prop = 0.75, strata = chest_pain_type)\n",
    "data_train <- training(data_split)\n",
    "data_test <- testing(data_split) "
   ]
  },
  {
   "cell_type": "code",
   "execution_count": null,
   "id": "5f37ebcc-4899-4000-be59-c4a38e8f0057",
   "metadata": {},
   "outputs": [],
   "source": [
    "set.seed(100)\n",
    "\n",
    "knn_tune <- nearest_neighbor(weight_func = \"rectangular\", neighbors = tune()) |>\n",
    "    set_engine(\"kknn\") |>\n",
    "    set_mode(\"classification\")\n",
    "\n",
    "heart_recipe <- recipe(chest_pain_type ~ age + rest_bp + serum_cholesterol + fasting_bs + rest_ecg_results + max_heartrate + exercise_angina + st_depression + diagnosis,\n",
    "                       data = data_train) |>\n",
    "    step_scale(age, serum_cholesterol, rest_bp, max_heartrate, st_depression) |>\n",
    "    step_center(age, serum_cholesterol, rest_bp, max_heartrate, st_depression)\n",
    "\n",
    "heart_refold <- vfold_cv(data_train, v = 5, strata = chest_pain_type)"
   ]
  },
  {
   "cell_type": "markdown",
   "id": "f3c44f84-d485-4b14-9d20-f879b6a3122f",
   "metadata": {},
   "source": [
    "Sex has been left out of the predictors as analysis during the proposal stage showed that it was not useful for differentiating between chest pain types."
   ]
  },
  {
   "cell_type": "code",
   "execution_count": null,
   "id": "1961aa03-1aa1-46ec-888e-2b87963def1d",
   "metadata": {
    "tags": []
   },
   "outputs": [],
   "source": [
    "k_vals_wide <- tibble(neighbors = seq(from = 1, to = 100, by = 5))\n",
    "\n",
    "resample_results_wide <- workflow() |>\n",
    "    add_recipe(heart_recipe) |>\n",
    "    add_model(knn_tune) |>\n",
    "    tune_grid(resamples = heart_refold, grid = k_vals_wide) |>\n",
    "    collect_metrics()\n",
    "\n",
    "cross_val_plot_wide <- resample_results_wide |>\n",
    "    filter(.metric == \"accuracy\") |>\n",
    "    ggplot(aes(x = neighbors, y = mean)) +\n",
    "    geom_point() +\n",
    "    geom_line() +\n",
    "    labs(x = \"Number of Neighbours\", y = \"Accuracy Estimate\")\n",
    "\n",
    "cross_val_plot_wide"
   ]
  },
  {
   "cell_type": "code",
   "execution_count": null,
   "id": "5096d054-eb4f-497b-9b4d-493e2b3d1ec0",
   "metadata": {
    "tags": []
   },
   "outputs": [],
   "source": [
    "set.seed(100)\n",
    "\n",
    "k_vals <- tibble(neighbors = seq(from = 10, to = 25, by = 1))\n",
    "\n",
    "resample_results <- workflow() |>\n",
    "    add_recipe(heart_recipe) |>\n",
    "    add_model(knn_tune) |>\n",
    "    tune_grid(resamples = heart_refold, grid = k_vals) |>\n",
    "    collect_metrics()\n",
    "\n",
    "optimal_neighbors <- resample_results |>\n",
    "    filter(.metric == \"accuracy\") |>\n",
    "    slice_max(mean) |>\n",
    "    pull(neighbors)\n",
    "\n",
    "cross_val_plot <- resample_results |>\n",
    "    filter(.metric == \"accuracy\") |>\n",
    "    ggplot(aes(x = neighbors, y = mean)) +\n",
    "    geom_point() +\n",
    "    geom_line() +\n",
    "    labs(x = \"Number of Neighbours\", y = \"Accuracy Estimate\")\n",
    "cross_val_plot"
   ]
  },
  {
   "cell_type": "code",
   "execution_count": null,
   "id": "8ca8d638-2e3a-4606-8ae5-21972970ce21",
   "metadata": {},
   "outputs": [],
   "source": [
    "knn_spec <- nearest_neighbor(weight_func = \"rectangular\", neighbors = optimal_neighbors) |>\n",
    "    set_engine(\"kknn\") |>\n",
    "    set_mode(\"classification\")\n",
    "\n",
    "heart_fit <- workflow() |>\n",
    "    add_recipe(heart_recipe) |>\n",
    "    add_model(knn_spec) |>\n",
    "    fit(data_train)\n",
    "\n",
    "pain_predictions <- predict(heart_fit, data_test) |>\n",
    "    bind_cols(data_test)\n",
    "pain_prediction_accuracy <- pain_predictions |>\n",
    "    metrics(truth = chest_pain_type, estimate = .pred_class)\n",
    "pain_prediction_accuracy"
   ]
  },
  {
   "cell_type": "code",
   "execution_count": null,
   "id": "8ca25c03-508c-429a-b84f-80020d810d83",
   "metadata": {
    "tags": []
   },
   "outputs": [],
   "source": [
    "pain_matrix <- pain_predictions |>\n",
    "    conf_mat(truth = chest_pain_type, estimate = .pred_class)\n",
    "pain_matrix"
   ]
  },
  {
   "cell_type": "raw",
   "id": "160e39b7-b942-40a0-b933-d172df2d7cf7",
   "metadata": {},
   "source": [
    "### Visualization Of Analysis:"
   ]
  },
  {
   "cell_type": "markdown",
   "id": "b9e1116a-467a-4e58-8037-ac41713fb20b",
   "metadata": {},
   "source": [
    "## Discussion"
   ]
  },
  {
   "cell_type": "markdown",
   "id": "7e96af3b-82b3-436f-8a13-715762400070",
   "metadata": {},
   "source": [
    "### What We Found:"
   ]
  },
  {
   "cell_type": "markdown",
   "id": "2b40c1bd-f471-4418-94e8-dd49294805f5",
   "metadata": {},
   "source": [
    "### Is This What We Expected:"
   ]
  },
  {
   "cell_type": "markdown",
   "id": "bc50e884-9042-4fb5-b73d-9668d13fc7f8",
   "metadata": {},
   "source": [
    "### Impact Of Findings:"
   ]
  },
  {
   "cell_type": "markdown",
   "id": "586199b2-41e9-4373-a3f4-b6a878f2ee17",
   "metadata": {},
   "source": [
    "### Future Questions:"
   ]
  },
  {
   "cell_type": "markdown",
   "id": "aa621e41-6b4a-482a-a81c-9f0031afb247",
   "metadata": {},
   "source": [
    "## References"
   ]
  },
  {
   "cell_type": "markdown",
   "id": "4c1281ac-6ab5-4420-9329-c8450a0f3342",
   "metadata": {},
   "source": [
    "1. [Heart Disease and Stroke](https://www.cdc.gov/chronicdisease/resources/publications/factsheets/heart-disease-stroke.htm#:~:text=Leading%20risk%20factors%20for%20heart,unhealthy%20diet%2C%20and%20physical%20inactivity.), Centers for Disease Control and Prevention, September, 2022 \n",
    "\n",
    "2. [Risk Factors for Coronary Artery Disease: Historical Perspectives](https://www.ncbi.nlm.nih.gov/pmc/articles/PMC5686931/), Rachel Hajar, July, 2017 "
   ]
  }
 ],
 "metadata": {
  "kernelspec": {
   "display_name": "R",
   "language": "R",
   "name": "ir"
  },
  "language_info": {
   "codemirror_mode": "r",
   "file_extension": ".r",
   "mimetype": "text/x-r-source",
   "name": "R",
   "pygments_lexer": "r",
   "version": "4.2.2"
  },
  "widgets": {
   "application/vnd.jupyter.widget-state+json": {
    "state": {},
    "version_major": 2,
    "version_minor": 0
   }
  }
 },
 "nbformat": 4,
 "nbformat_minor": 5
}
